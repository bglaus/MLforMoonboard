{
 "cells": [
  {
   "cell_type": "markdown",
   "id": "f5162bc3",
   "metadata": {},
   "source": [
    "# Training Hold2Vec Embeddings"
   ]
  },
  {
   "cell_type": "code",
   "execution_count": 1,
   "id": "fee0c4b5",
   "metadata": {},
   "outputs": [
    {
     "name": "stderr",
     "output_type": "stream",
     "text": [
      "2023-04-27 22:32:03.536980: I tensorflow/core/platform/cpu_feature_guard.cc:193] This TensorFlow binary is optimized with oneAPI Deep Neural Network Library (oneDNN) to use the following CPU instructions in performance-critical operations:  AVX2 FMA\n",
      "To enable them in other operations, rebuild TensorFlow with the appropriate compiler flags.\n"
     ]
    }
   ],
   "source": [
    "import os, sys, time\n",
    "sys.path.append('..')\n",
    "\n",
    "from data_loading import *\n",
    "from embeddings.route_embeddings import *\n",
    "from embeddings import hold2vec"
   ]
  },
  {
   "cell_type": "code",
   "execution_count": 2,
   "id": "028f3c63",
   "metadata": {},
   "outputs": [
    {
     "name": "stdout",
     "output_type": "stream",
     "text": [
      "Output file is ../data/embeddings/hold2vec_skip-gram_embedding100_window8_epochs20.npy\n"
     ]
    }
   ],
   "source": [
    "window_size = 8\n",
    "embedding_size = 100\n",
    "objective='skip-gram'   # 'skip-gram' or 'cbow'\n",
    "epochs = 20\n",
    "\n",
    "\n",
    "export_path = '../data/embeddings/'\n",
    "file_name = f'hold2vec_{objective}_embedding{embedding_size}_window{window_size}_epochs{epochs}.npy'\n",
    "\n",
    "assert os.path.exists(export_path)\n",
    "print(f'Output file is {export_path + file_name}')"
   ]
  },
  {
   "cell_type": "code",
   "execution_count": 3,
   "id": "40dc7ac1",
   "metadata": {},
   "outputs": [
    {
     "name": "stdout",
     "output_type": "stream",
     "text": [
      "0. Data Exploration.ipynb             2. Training Hold2Vec Embeddings.ipynb\r\n",
      "1. Preprocessing.ipynb                3. MLP Classifier.ipynb\r\n",
      "2. Building Embeddings.ipynb\r\n"
     ]
    }
   ],
   "source": [
    "!ls"
   ]
  },
  {
   "cell_type": "code",
   "execution_count": 4,
   "id": "ab180741",
   "metadata": {},
   "outputs": [
    {
     "data": {
      "text/html": [
       "<div>\n",
       "<style scoped>\n",
       "    .dataframe tbody tr th:only-of-type {\n",
       "        vertical-align: middle;\n",
       "    }\n",
       "\n",
       "    .dataframe tbody tr th {\n",
       "        vertical-align: top;\n",
       "    }\n",
       "\n",
       "    .dataframe thead th {\n",
       "        text-align: right;\n",
       "    }\n",
       "</style>\n",
       "<table border=\"1\" class=\"dataframe\">\n",
       "  <thead>\n",
       "    <tr style=\"text-align: right;\">\n",
       "      <th></th>\n",
       "      <th>Grade</th>\n",
       "      <th>UserRating</th>\n",
       "      <th>Moves</th>\n",
       "    </tr>\n",
       "  </thead>\n",
       "  <tbody>\n",
       "    <tr>\n",
       "      <th>0</th>\n",
       "      <td>6A+</td>\n",
       "      <td>1</td>\n",
       "      <td>[H5, E7, F8, D10, E13, C14, C16, B18, E18, F9,...</td>\n",
       "    </tr>\n",
       "    <tr>\n",
       "      <th>1</th>\n",
       "      <td>6A+</td>\n",
       "      <td>2</td>\n",
       "      <td>[H5, E7, D8, D10, E13, C14, C16, B18, E18]</td>\n",
       "    </tr>\n",
       "    <tr>\n",
       "      <th>2</th>\n",
       "      <td>6B+</td>\n",
       "      <td>2</td>\n",
       "      <td>[A4, B4, C7, D9, F12, D15, F18]</td>\n",
       "    </tr>\n",
       "    <tr>\n",
       "      <th>3</th>\n",
       "      <td>6A+</td>\n",
       "      <td>2</td>\n",
       "      <td>[K4, J4, I7, H9, I10, F12, F13, E6, B14, C16, ...</td>\n",
       "    </tr>\n",
       "    <tr>\n",
       "      <th>4</th>\n",
       "      <td>6B+</td>\n",
       "      <td>2</td>\n",
       "      <td>[G8, D9, F12, C13, F15, D17, F18, E6, G4, F4]</td>\n",
       "    </tr>\n",
       "  </tbody>\n",
       "</table>\n",
       "</div>"
      ],
      "text/plain": [
       "  Grade  UserRating                                              Moves\n",
       "0   6A+           1  [H5, E7, F8, D10, E13, C14, C16, B18, E18, F9,...\n",
       "1   6A+           2         [H5, E7, D8, D10, E13, C14, C16, B18, E18]\n",
       "2   6B+           2                    [A4, B4, C7, D9, F12, D15, F18]\n",
       "3   6A+           2  [K4, J4, I7, H9, I10, F12, F13, E6, B14, C16, ...\n",
       "4   6B+           2      [G8, D9, F12, C13, F15, D17, F18, E6, G4, F4]"
      ]
     },
     "execution_count": 4,
     "metadata": {},
     "output_type": "execute_result"
    }
   ],
   "source": [
    "df = load_dataframe('../data/2017.json')\n",
    "df.head()"
   ]
  },
  {
   "cell_type": "code",
   "execution_count": 5,
   "id": "26e53331",
   "metadata": {},
   "outputs": [
    {
     "name": "stdout",
     "output_type": "stream",
     "text": [
      "(18865, 198)\n"
     ]
    }
   ],
   "source": [
    "bag_of_holds_embeddings_1d = bag_of_holds_1d(df.Moves)\n",
    "print(bag_of_holds_embeddings_1d.shape)"
   ]
  },
  {
   "cell_type": "code",
   "execution_count": 6,
   "id": "b079c6a5",
   "metadata": {},
   "outputs": [
    {
     "name": "stderr",
     "output_type": "stream",
     "text": [
      "2023-04-27 22:32:07.490754: I tensorflow/core/platform/cpu_feature_guard.cc:193] This TensorFlow binary is optimized with oneAPI Deep Neural Network Library (oneDNN) to use the following CPU instructions in performance-critical operations:  AVX2 FMA\n",
      "To enable them in other operations, rebuild TensorFlow with the appropriate compiler flags.\n"
     ]
    }
   ],
   "source": [
    "h2v = hold2vec.hold2vec()\n",
    "h2v.initialize(N=embedding_size, window_size=window_size)"
   ]
  },
  {
   "cell_type": "code",
   "execution_count": 7,
   "id": "035bb7a2",
   "metadata": {},
   "outputs": [
    {
     "name": "stdout",
     "output_type": "stream",
     "text": [
      "File ../data/embeddings/hold2vec_skip-gram_embedding100_window8_epochs20.npy already exists, abort training.\n"
     ]
    }
   ],
   "source": [
    "if os.path.exists(export_path + file_name):\n",
    "    print(f'File {export_path + file_name} already exists, abort training.')\n",
    "else:    \n",
    "    # Actual Training:\n",
    "    \n",
    "    start_time = time.time()\n",
    "    print(f'Computing embeddings of size {embedding_size} with context window size {window_size}')\n",
    "    \n",
    "    h2v.build_training_data(bag_of_holds_embeddings_1d, objective=objective) # build cbow or skip-gram training data set\n",
    "    h2v.build_model() # creates the keras.model\n",
    "    h2v.train(epochs=epochs)  \n",
    "    h2v.save_hold_matrix(filename = export_path + file_name) # write embeddings to file\n",
    "    hold_embeddings = h2v.get_hold_matrix().T\n",
    "    \n",
    "    time_delta = time.time() - start_time\n",
    "    print(f'all done in {time_delta // 60:.0f} minutes {time_delta % 60:.2f} seconds')\n",
    "    print(hold_embeddings.shape)"
   ]
  },
  {
   "cell_type": "code",
   "execution_count": null,
   "id": "ce6eff2f",
   "metadata": {},
   "outputs": [],
   "source": []
  }
 ],
 "metadata": {
  "kernelspec": {
   "display_name": "Python 3 (ipykernel)",
   "language": "python",
   "name": "python3"
  },
  "language_info": {
   "codemirror_mode": {
    "name": "ipython",
    "version": 3
   },
   "file_extension": ".py",
   "mimetype": "text/x-python",
   "name": "python",
   "nbconvert_exporter": "python",
   "pygments_lexer": "ipython3",
   "version": "3.10.8"
  }
 },
 "nbformat": 4,
 "nbformat_minor": 5
}
