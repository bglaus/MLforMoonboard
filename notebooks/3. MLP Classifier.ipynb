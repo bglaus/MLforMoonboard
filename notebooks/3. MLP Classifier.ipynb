{
 "cells": [
  {
   "cell_type": "markdown",
   "id": "43cb6ae0",
   "metadata": {},
   "source": [
    "# 3. Classifier Models - MLP"
   ]
  },
  {
   "cell_type": "code",
   "execution_count": 1,
   "id": "d443cdd7",
   "metadata": {},
   "outputs": [
    {
     "name": "stderr",
     "output_type": "stream",
     "text": [
      "2023-04-29 12:34:17.324508: I tensorflow/core/platform/cpu_feature_guard.cc:193] This TensorFlow binary is optimized with oneAPI Deep Neural Network Library (oneDNN) to use the following CPU instructions in performance-critical operations:  AVX2 FMA\n",
      "To enable them in other operations, rebuild TensorFlow with the appropriate compiler flags.\n"
     ]
    }
   ],
   "source": [
    "from sklearn.neural_network import MLPClassifier\n",
    "from sklearn.model_selection import train_test_split\n",
    "from sklearn.metrics import classification_report, confusion_matrix\n",
    "import matplotlib.pyplot as plt\n",
    "import matplotlib.ticker as mtick\n",
    "import random\n",
    "\n",
    "import sys\n",
    "sys.path.append('..')\n",
    "\n",
    "from data_loading import *\n",
    "from embeddings.hold2vec import *\n",
    "from embeddings.route_embeddings import *\n",
    "from visualization import plot_route"
   ]
  },
  {
   "cell_type": "markdown",
   "id": "89ff174b",
   "metadata": {},
   "source": [
    "## MLP with Hold2Vec Embeddings"
   ]
  },
  {
   "cell_type": "markdown",
   "id": "677be5cd",
   "metadata": {},
   "source": [
    "### Loading the Data"
   ]
  },
  {
   "cell_type": "code",
   "execution_count": 2,
   "id": "bd9027fb",
   "metadata": {},
   "outputs": [
    {
     "data": {
      "text/html": [
       "<div>\n",
       "<style scoped>\n",
       "    .dataframe tbody tr th:only-of-type {\n",
       "        vertical-align: middle;\n",
       "    }\n",
       "\n",
       "    .dataframe tbody tr th {\n",
       "        vertical-align: top;\n",
       "    }\n",
       "\n",
       "    .dataframe thead th {\n",
       "        text-align: right;\n",
       "    }\n",
       "</style>\n",
       "<table border=\"1\" class=\"dataframe\">\n",
       "  <thead>\n",
       "    <tr style=\"text-align: right;\">\n",
       "      <th></th>\n",
       "      <th>Grade</th>\n",
       "      <th>UserRating</th>\n",
       "      <th>Moves</th>\n",
       "      <th>font_scale</th>\n",
       "      <th>v_grade_str</th>\n",
       "      <th>v_grade</th>\n",
       "    </tr>\n",
       "  </thead>\n",
       "  <tbody>\n",
       "    <tr>\n",
       "      <th>0</th>\n",
       "      <td>6A+</td>\n",
       "      <td>1</td>\n",
       "      <td>[H5, E7, F8, D10, E13, C14, C16, B18, E18, F9,...</td>\n",
       "      <td>0</td>\n",
       "      <td>V3</td>\n",
       "      <td>0</td>\n",
       "    </tr>\n",
       "    <tr>\n",
       "      <th>1</th>\n",
       "      <td>6A+</td>\n",
       "      <td>2</td>\n",
       "      <td>[H5, E7, D8, D10, E13, C14, C16, B18, E18]</td>\n",
       "      <td>0</td>\n",
       "      <td>V3</td>\n",
       "      <td>0</td>\n",
       "    </tr>\n",
       "    <tr>\n",
       "      <th>2</th>\n",
       "      <td>6B+</td>\n",
       "      <td>2</td>\n",
       "      <td>[A4, B4, C7, D9, F12, D15, F18]</td>\n",
       "      <td>2</td>\n",
       "      <td>V4</td>\n",
       "      <td>1</td>\n",
       "    </tr>\n",
       "    <tr>\n",
       "      <th>3</th>\n",
       "      <td>6A+</td>\n",
       "      <td>2</td>\n",
       "      <td>[K4, J4, I7, H9, I10, F12, F13, E6, B14, C16, ...</td>\n",
       "      <td>0</td>\n",
       "      <td>V3</td>\n",
       "      <td>0</td>\n",
       "    </tr>\n",
       "    <tr>\n",
       "      <th>4</th>\n",
       "      <td>6B+</td>\n",
       "      <td>2</td>\n",
       "      <td>[G8, D9, F12, C13, F15, D17, F18, E6, G4, F4]</td>\n",
       "      <td>2</td>\n",
       "      <td>V4</td>\n",
       "      <td>1</td>\n",
       "    </tr>\n",
       "  </tbody>\n",
       "</table>\n",
       "</div>"
      ],
      "text/plain": [
       "  Grade  UserRating                                              Moves  \\\n",
       "0   6A+           1  [H5, E7, F8, D10, E13, C14, C16, B18, E18, F9,...   \n",
       "1   6A+           2         [H5, E7, D8, D10, E13, C14, C16, B18, E18]   \n",
       "2   6B+           2                    [A4, B4, C7, D9, F12, D15, F18]   \n",
       "3   6A+           2  [K4, J4, I7, H9, I10, F12, F13, E6, B14, C16, ...   \n",
       "4   6B+           2      [G8, D9, F12, C13, F15, D17, F18, E6, G4, F4]   \n",
       "\n",
       "   font_scale v_grade_str  v_grade  \n",
       "0           0          V3        0  \n",
       "1           0          V3        0  \n",
       "2           2          V4        1  \n",
       "3           0          V3        0  \n",
       "4           2          V4        1  "
      ]
     },
     "execution_count": 2,
     "metadata": {},
     "output_type": "execute_result"
    }
   ],
   "source": [
    "df = load_dataframe('../data/2017.json')\n",
    "df = add_font_scale_column(df)\n",
    "df = add_v_grade(df)\n",
    "# df = df[df.v_grade < 7]\n",
    "df.head()"
   ]
  },
  {
   "cell_type": "markdown",
   "id": "3db4cb31",
   "metadata": {},
   "source": [
    "### Building Embeddings"
   ]
  },
  {
   "cell_type": "code",
   "execution_count": 3,
   "id": "595f52d0",
   "metadata": {},
   "outputs": [],
   "source": [
    "filename = 'hold2vec_skip-gram_embedding100_window8_epochs20.npy'\n",
    "\n",
    "hold_embeddings_matrix = load_hold_matrix(filename = '../data/embeddings/' + filename)\n",
    "hold_embeddings_matrix = hold_embeddings_matrix.T\n",
    "\n",
    "weights = tf_idf_weights(df.Moves)\n",
    "embeddings = pooled_embedding(df.Moves, hold_embeddings=hold_embeddings_matrix, pool_method='sum', weights=weights)"
   ]
  },
  {
   "cell_type": "markdown",
   "id": "f647e829",
   "metadata": {},
   "source": [
    "### Train / Test Split"
   ]
  },
  {
   "cell_type": "code",
   "execution_count": 4,
   "id": "3cbb464d",
   "metadata": {},
   "outputs": [],
   "source": [
    "y = np.array(df.v_grade)\n",
    "#X_train, X_test, y_train, y_test = train_test_split(embeddings, y, test_size=0.2, random_state=42, stratify=y)\n",
    "X_train, X_test, y_train, y_test = train_test_split(embeddings, y, test_size=0.2, random_state=42)"
   ]
  },
  {
   "cell_type": "markdown",
   "id": "b74d894a",
   "metadata": {},
   "source": [
    "### Training the MLP Classifier"
   ]
  },
  {
   "cell_type": "code",
   "execution_count": 5,
   "id": "a47c268b",
   "metadata": {},
   "outputs": [
    {
     "name": "stderr",
     "output_type": "stream",
     "text": [
      "/Users/benjaminglaus/miniconda3/envs/data/lib/python3.10/site-packages/sklearn/neural_network/_multilayer_perceptron.py:559: ConvergenceWarning: lbfgs failed to converge (status=1):\n",
      "STOP: TOTAL NO. of ITERATIONS REACHED LIMIT.\n",
      "\n",
      "Increase the number of iterations (max_iter) or scale the data as shown in:\n",
      "    https://scikit-learn.org/stable/modules/preprocessing.html\n",
      "  self.n_iter_ = _check_optimize_result(\"lbfgs\", opt_res, self.max_iter)\n"
     ]
    },
    {
     "data": {
      "text/html": [
       "<style>#sk-container-id-1 {color: black;background-color: white;}#sk-container-id-1 pre{padding: 0;}#sk-container-id-1 div.sk-toggleable {background-color: white;}#sk-container-id-1 label.sk-toggleable__label {cursor: pointer;display: block;width: 100%;margin-bottom: 0;padding: 0.3em;box-sizing: border-box;text-align: center;}#sk-container-id-1 label.sk-toggleable__label-arrow:before {content: \"▸\";float: left;margin-right: 0.25em;color: #696969;}#sk-container-id-1 label.sk-toggleable__label-arrow:hover:before {color: black;}#sk-container-id-1 div.sk-estimator:hover label.sk-toggleable__label-arrow:before {color: black;}#sk-container-id-1 div.sk-toggleable__content {max-height: 0;max-width: 0;overflow: hidden;text-align: left;background-color: #f0f8ff;}#sk-container-id-1 div.sk-toggleable__content pre {margin: 0.2em;color: black;border-radius: 0.25em;background-color: #f0f8ff;}#sk-container-id-1 input.sk-toggleable__control:checked~div.sk-toggleable__content {max-height: 200px;max-width: 100%;overflow: auto;}#sk-container-id-1 input.sk-toggleable__control:checked~label.sk-toggleable__label-arrow:before {content: \"▾\";}#sk-container-id-1 div.sk-estimator input.sk-toggleable__control:checked~label.sk-toggleable__label {background-color: #d4ebff;}#sk-container-id-1 div.sk-label input.sk-toggleable__control:checked~label.sk-toggleable__label {background-color: #d4ebff;}#sk-container-id-1 input.sk-hidden--visually {border: 0;clip: rect(1px 1px 1px 1px);clip: rect(1px, 1px, 1px, 1px);height: 1px;margin: -1px;overflow: hidden;padding: 0;position: absolute;width: 1px;}#sk-container-id-1 div.sk-estimator {font-family: monospace;background-color: #f0f8ff;border: 1px dotted black;border-radius: 0.25em;box-sizing: border-box;margin-bottom: 0.5em;}#sk-container-id-1 div.sk-estimator:hover {background-color: #d4ebff;}#sk-container-id-1 div.sk-parallel-item::after {content: \"\";width: 100%;border-bottom: 1px solid gray;flex-grow: 1;}#sk-container-id-1 div.sk-label:hover label.sk-toggleable__label {background-color: #d4ebff;}#sk-container-id-1 div.sk-serial::before {content: \"\";position: absolute;border-left: 1px solid gray;box-sizing: border-box;top: 0;bottom: 0;left: 50%;z-index: 0;}#sk-container-id-1 div.sk-serial {display: flex;flex-direction: column;align-items: center;background-color: white;padding-right: 0.2em;padding-left: 0.2em;position: relative;}#sk-container-id-1 div.sk-item {position: relative;z-index: 1;}#sk-container-id-1 div.sk-parallel {display: flex;align-items: stretch;justify-content: center;background-color: white;position: relative;}#sk-container-id-1 div.sk-item::before, #sk-container-id-1 div.sk-parallel-item::before {content: \"\";position: absolute;border-left: 1px solid gray;box-sizing: border-box;top: 0;bottom: 0;left: 50%;z-index: -1;}#sk-container-id-1 div.sk-parallel-item {display: flex;flex-direction: column;z-index: 1;position: relative;background-color: white;}#sk-container-id-1 div.sk-parallel-item:first-child::after {align-self: flex-end;width: 50%;}#sk-container-id-1 div.sk-parallel-item:last-child::after {align-self: flex-start;width: 50%;}#sk-container-id-1 div.sk-parallel-item:only-child::after {width: 0;}#sk-container-id-1 div.sk-dashed-wrapped {border: 1px dashed gray;margin: 0 0.4em 0.5em 0.4em;box-sizing: border-box;padding-bottom: 0.4em;background-color: white;}#sk-container-id-1 div.sk-label label {font-family: monospace;font-weight: bold;display: inline-block;line-height: 1.2em;}#sk-container-id-1 div.sk-label-container {text-align: center;}#sk-container-id-1 div.sk-container {/* jupyter's `normalize.less` sets `[hidden] { display: none; }` but bootstrap.min.css set `[hidden] { display: none !important; }` so we also need the `!important` here to be able to override the default hidden behavior on the sphinx rendered scikit-learn.org. See: https://github.com/scikit-learn/scikit-learn/issues/21755 */display: inline-block !important;position: relative;}#sk-container-id-1 div.sk-text-repr-fallback {display: none;}</style><div id=\"sk-container-id-1\" class=\"sk-top-container\"><div class=\"sk-text-repr-fallback\"><pre>MLPClassifier(alpha=0.00015, hidden_layer_sizes=(20, 15), max_iter=300,\n",
       "              random_state=42, solver=&#x27;lbfgs&#x27;)</pre><b>In a Jupyter environment, please rerun this cell to show the HTML representation or trust the notebook. <br />On GitHub, the HTML representation is unable to render, please try loading this page with nbviewer.org.</b></div><div class=\"sk-container\" hidden><div class=\"sk-item\"><div class=\"sk-estimator sk-toggleable\"><input class=\"sk-toggleable__control sk-hidden--visually\" id=\"sk-estimator-id-1\" type=\"checkbox\" checked><label for=\"sk-estimator-id-1\" class=\"sk-toggleable__label sk-toggleable__label-arrow\">MLPClassifier</label><div class=\"sk-toggleable__content\"><pre>MLPClassifier(alpha=0.00015, hidden_layer_sizes=(20, 15), max_iter=300,\n",
       "              random_state=42, solver=&#x27;lbfgs&#x27;)</pre></div></div></div></div></div>"
      ],
      "text/plain": [
       "MLPClassifier(alpha=0.00015, hidden_layer_sizes=(20, 15), max_iter=300,\n",
       "              random_state=42, solver='lbfgs')"
      ]
     },
     "execution_count": 5,
     "metadata": {},
     "output_type": "execute_result"
    }
   ],
   "source": [
    "classifier = MLPClassifier(random_state=42, max_iter=300, hidden_layer_sizes=(20,15,), solver='lbfgs', alpha=0.00015)\n",
    "classifier.fit(X_train, y_train)"
   ]
  },
  {
   "cell_type": "markdown",
   "id": "a668da45",
   "metadata": {},
   "source": [
    "### Report: Classification of Training Data"
   ]
  },
  {
   "cell_type": "code",
   "execution_count": 6,
   "id": "4d1b8eac",
   "metadata": {},
   "outputs": [
    {
     "name": "stdout",
     "output_type": "stream",
     "text": [
      "              precision    recall  f1-score   support\n",
      "\n",
      "           0     0.7081    0.7676    0.7367      4871\n",
      "           1     0.4244    0.3369    0.3756      3372\n",
      "           2     0.4426    0.6373    0.5224      3785\n",
      "           3     0.2577    0.0354    0.0623      1186\n",
      "           4     0.0000    0.0000    0.0000       479\n",
      "           5     0.3695    0.5009    0.4253      1122\n",
      "           6     0.0000    0.0000    0.0000       190\n",
      "           7     0.0000    0.0000    0.0000        62\n",
      "           8     0.0000    0.0000    0.0000        13\n",
      "           9     0.0000    0.0000    0.0000         4\n",
      "          10     0.0000    0.0000    0.0000         8\n",
      "\n",
      "    accuracy                         0.5229     15092\n",
      "   macro avg     0.2002    0.2071    0.1929     15092\n",
      "weighted avg     0.4821    0.5229    0.4892     15092\n",
      "\n",
      "Confusion Matrix\n",
      "3739  710  391    5    0   26    0    0    0    0    0 \n",
      "1152 1136 1044    7    0   33    0    0    0    0    0 \n",
      " 346  743 2412   41    0  242    1    0    0    0    0 \n",
      "  28   54  786   42    0  276    0    0    0    0    0 \n",
      "   3    8  273   20    0  175    0    0    0    0    0 \n",
      "  11   22  483   44    0  562    0    0    0    0    0 \n",
      "   1    3   45    4    0  137    0    0    0    0    0 \n",
      "   0    1   10    0    0   51    0    0    0    0    0 \n",
      "   0    0    1    0    0   12    0    0    0    0    0 \n",
      "   0    0    0    0    0    4    0    0    0    0    0 \n",
      "   0    0    5    0    0    3    0    0    0    0    0 \n"
     ]
    },
    {
     "name": "stderr",
     "output_type": "stream",
     "text": [
      "/Users/benjaminglaus/miniconda3/envs/data/lib/python3.10/site-packages/sklearn/metrics/_classification.py:1334: UndefinedMetricWarning: Precision and F-score are ill-defined and being set to 0.0 in labels with no predicted samples. Use `zero_division` parameter to control this behavior.\n",
      "  _warn_prf(average, modifier, msg_start, len(result))\n",
      "/Users/benjaminglaus/miniconda3/envs/data/lib/python3.10/site-packages/sklearn/metrics/_classification.py:1334: UndefinedMetricWarning: Precision and F-score are ill-defined and being set to 0.0 in labels with no predicted samples. Use `zero_division` parameter to control this behavior.\n",
      "  _warn_prf(average, modifier, msg_start, len(result))\n",
      "/Users/benjaminglaus/miniconda3/envs/data/lib/python3.10/site-packages/sklearn/metrics/_classification.py:1334: UndefinedMetricWarning: Precision and F-score are ill-defined and being set to 0.0 in labels with no predicted samples. Use `zero_division` parameter to control this behavior.\n",
      "  _warn_prf(average, modifier, msg_start, len(result))\n"
     ]
    }
   ],
   "source": [
    "y_train_pred = classifier.predict(X_train)\n",
    "\n",
    "sk_report_train = classification_report(\n",
    "    digits=4,\n",
    "    y_true= y_train, \n",
    "    y_pred= y_train_pred\n",
    ")\n",
    "print(sk_report_train)\n",
    "\n",
    "print(\"Confusion Matrix\")\n",
    "for a in confusion_matrix(y_train, y_train_pred):\n",
    "    for b in a:\n",
    "        print(f'{b:4d}', end=' ')\n",
    "    print()"
   ]
  },
  {
   "cell_type": "markdown",
   "id": "4bf3dddc",
   "metadata": {},
   "source": [
    "### Report: Classification of Validation Data"
   ]
  },
  {
   "cell_type": "code",
   "execution_count": 7,
   "id": "ee59bcdd",
   "metadata": {},
   "outputs": [
    {
     "name": "stdout",
     "output_type": "stream",
     "text": [
      "              precision    recall  f1-score   support\n",
      "\n",
      "           0     0.7062    0.7461    0.7256      1276\n",
      "           1     0.3598    0.3085    0.3322       765\n",
      "           2     0.4117    0.5809    0.4819       983\n",
      "           3     0.1622    0.0213    0.0376       282\n",
      "           4     0.0000    0.0000    0.0000       114\n",
      "           5     0.3866    0.4784    0.4277       278\n",
      "           6     0.0000    0.0000    0.0000        48\n",
      "           7     0.0000    0.0000    0.0000        13\n",
      "           8     0.0000    0.0000    0.0000         9\n",
      "           9     0.0000    0.0000    0.0000         2\n",
      "          10     0.0000    0.0000    0.0000         3\n",
      "\n",
      "    accuracy                         0.5030      3773\n",
      "   macro avg     0.1842    0.1941    0.1823      3773\n",
      "weighted avg     0.4596    0.5030    0.4726      3773\n",
      "\n",
      "Confusion Matrix\n",
      " 952  192  125    1    0    6    0    0    0    0    0 \n",
      " 245  236  270    2    0   12    0    0    0    0    0 \n",
      " 137  196  571   17    0   61    1    0    0    0    0 \n",
      "   6   21  204    6    0   45    0    0    0    0    0 \n",
      "   1    2   77    3    0   31    0    0    0    0    0 \n",
      "   6    8  123    8    0  133    0    0    0    0    0 \n",
      "   1    1   14    0    0   32    0    0    0    0    0 \n",
      "   0    0    0    0    0   13    0    0    0    0    0 \n",
      "   0    0    2    0    0    7    0    0    0    0    0 \n",
      "   0    0    1    0    0    1    0    0    0    0    0 \n",
      "   0    0    0    0    0    3    0    0    0    0    0 \n"
     ]
    },
    {
     "name": "stderr",
     "output_type": "stream",
     "text": [
      "/Users/benjaminglaus/miniconda3/envs/data/lib/python3.10/site-packages/sklearn/metrics/_classification.py:1334: UndefinedMetricWarning: Precision and F-score are ill-defined and being set to 0.0 in labels with no predicted samples. Use `zero_division` parameter to control this behavior.\n",
      "  _warn_prf(average, modifier, msg_start, len(result))\n",
      "/Users/benjaminglaus/miniconda3/envs/data/lib/python3.10/site-packages/sklearn/metrics/_classification.py:1334: UndefinedMetricWarning: Precision and F-score are ill-defined and being set to 0.0 in labels with no predicted samples. Use `zero_division` parameter to control this behavior.\n",
      "  _warn_prf(average, modifier, msg_start, len(result))\n",
      "/Users/benjaminglaus/miniconda3/envs/data/lib/python3.10/site-packages/sklearn/metrics/_classification.py:1334: UndefinedMetricWarning: Precision and F-score are ill-defined and being set to 0.0 in labels with no predicted samples. Use `zero_division` parameter to control this behavior.\n",
      "  _warn_prf(average, modifier, msg_start, len(result))\n"
     ]
    }
   ],
   "source": [
    "y_test_pred = classifier.predict(X_test)\n",
    "\n",
    "sk_report_test = classification_report(\n",
    "    digits=4,\n",
    "    y_true= y_test, \n",
    "    y_pred= y_test_pred\n",
    ")\n",
    "print(sk_report_test)\n",
    "matrix = confusion_matrix(y_test, y_test_pred, normalize='true')\n",
    "\n",
    "print(\"Confusion Matrix\")\n",
    "for a in confusion_matrix(y_test, y_test_pred):\n",
    "    for b in a:\n",
    "        print(f'{b:4d}', end=' ')\n",
    "    print()"
   ]
  },
  {
   "cell_type": "code",
   "execution_count": 9,
   "id": "e8c2cc3b",
   "metadata": {},
   "outputs": [
    {
     "name": "stdout",
     "output_type": "stream",
     "text": [
      "['H6', 'C3', 'D8', 'E11', 'B14', 'G15', 'G16', 'K18']\n",
      "    V3 0.12%\n",
      "    V4 2.30%\n",
      "    V5 28.76%\n",
      "    V6 12.10%\n",
      "    V7 19.00%\n",
      ">   V8 30.32%\n",
      "    V9 4.07%\n",
      "   V10 2.59%\n",
      "   V11 0.37%\n",
      "   V12 0.08%\n",
      "   V13 0.30%\n"
     ]
    },
    {
     "data": {
      "image/png": "[encoded data removed]",
      "text/plain": [
       "<Figure size 640x480 with 1 Axes>"
      ]
     },
     "metadata": {},
     "output_type": "display_data"
    },
    {
     "data": {
      "image/png": "[encoded data removed]",
      "text/plain": [
       "<Figure size 640x480 with 1 Axes>"
      ]
     },
     "metadata": {},
     "output_type": "display_data"
    }
   ],
   "source": [
    "# predict probabilities of grades for route at index route_i\n",
    "route_i = random.choice(list(df[df.v_grade > 3].index)) # choose a random route (harder then)\n",
    "\n",
    "route = df.Moves[route_i]\n",
    "embedded_route = pooled_embedding([route], hold_embeddings=hold_embeddings_matrix, pool_method='sum', weights=weights)\n",
    "\n",
    "y_true = df.v_grade[route_i]\n",
    "y_probas = classifier.predict_proba(embedded_route)\n",
    "\n",
    "# print the route\n",
    "print(route)\n",
    "\n",
    "# print out the probabilities\n",
    "n = len(y_probas[0])\n",
    "int_to_V_grade = {v: k for k, v in V_GRADE.items()}\n",
    "\n",
    "for i in range(n):\n",
    "    print('> ' if i == y_true else '  ', end='')\n",
    "    print(f'{int_to_V_grade[i]:>4} {y_probas[0][i]*100:.2f}%')\n",
    "    \n",
    "# plot the probability distribution of the classifiers prediction\n",
    "plt.plot(y_probas[0], label='Predicted Rating')\n",
    "plt.axvline(x=y_true, color='green', label='Given Rating')\n",
    "\n",
    "plt.xlabel(\"V Grade\")\n",
    "plt.xticks(list(V_GRADE.values()), list(V_GRADE.keys()))\n",
    "\n",
    "plt.ylabel(\"Probability\")\n",
    "plt.gca().yaxis.set_major_formatter(mtick.PercentFormatter(xmax=1.0))\n",
    "plt.title(\"Classifier's Certainty of the Route's Difficulty\")\n",
    "#plt.ylim(0,1)\n",
    "plt.legend()\n",
    "\n",
    "plt.show()\n",
    "\n",
    "# plot the route\n",
    "plot_route(df, route_i)"
   ]
  },
  {
   "cell_type": "code",
   "execution_count": null,
   "id": "7a902a60",
   "metadata": {},
   "outputs": [],
   "source": []
  }
 ],
 "metadata": {
  "kernelspec": {
   "display_name": "Python 3 (ipykernel)",
   "language": "python",
   "name": "python3"
  },
  "language_info": {
   "codemirror_mode": {
    "name": "ipython",
    "version": 3
   },
   "file_extension": ".py",
   "mimetype": "text/x-python",
   "name": "python",
   "nbconvert_exporter": "python",
   "pygments_lexer": "ipython3",
   "version": "3.10.8"
  }
 },
 "nbformat": 4,
 "nbformat_minor": 5
}
